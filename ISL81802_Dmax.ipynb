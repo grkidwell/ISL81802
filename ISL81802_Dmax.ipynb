{
  "nbformat": 4,
  "nbformat_minor": 0,
  "metadata": {
    "colab": {
      "name": "ISL81802_Dmax.ipynb",
      "version": "0.3.2",
      "provenance": [],
      "collapsed_sections": [
        "Yradscw8ZhcN",
        "kTGsZRM_Zlcv"
      ],
      "include_colab_link": true
    },
    "kernelspec": {
      "name": "python3",
      "display_name": "Python 3"
    }
  },
  "cells": [
    {
      "cell_type": "markdown",
      "metadata": {
        "id": "view-in-github",
        "colab_type": "text"
      },
      "source": [
        "<a href=\"https://colab.research.google.com/github/grkidwell/ISL81802/blob/master/ISL81802_Dmax.ipynb\" target=\"_parent\"><img src=\"https://colab.research.google.com/assets/colab-badge.svg\" alt=\"Open In Colab\"/></a>"
      ]
    },
    {
      "metadata": {
        "id": "unHSLv31ZLPH",
        "colab_type": "code",
        "colab": {}
      },
      "cell_type": "code",
      "source": [
        ""
      ],
      "execution_count": 0,
      "outputs": []
    },
    {
      "metadata": {
        "id": "aeu_XshkZOqi",
        "colab_type": "text"
      },
      "cell_type": "markdown",
      "source": [
        "#ISL81802 Max Duty Cycle"
      ]
    },
    {
      "metadata": {
        "id": "1HfAh-MGZeI0",
        "colab_type": "text"
      },
      "cell_type": "markdown",
      "source": [
        "### Libraries"
      ]
    },
    {
      "metadata": {
        "id": "Yradscw8ZhcN",
        "colab_type": "text"
      },
      "cell_type": "markdown",
      "source": [
        "###Input Parameters"
      ]
    },
    {
      "metadata": {
        "id": "K-Ss07bWZ0pg",
        "colab_type": "code",
        "colab": {}
      },
      "cell_type": "code",
      "source": [
        "fs_nom = 750e3   \n",
        "toff_min = 220e-9\n",
        "Vin_min= 9"
      ],
      "execution_count": 0,
      "outputs": []
    },
    {
      "metadata": {
        "id": "kTGsZRM_Zlcv",
        "colab_type": "text"
      },
      "cell_type": "markdown",
      "source": [
        "###Functions"
      ]
    },
    {
      "metadata": {
        "id": "vUs1Wt7SaDbF",
        "colab_type": "code",
        "colab": {}
      },
      "cell_type": "code",
      "source": [
        "'''derive Dmax\n",
        "Ts=Ton+Toff\n",
        "Ts=D*Ts+Toff\n",
        "D=(Ts-Toff)/Ts\n",
        "D=(1-Toff/Ts)'''\n",
        "\n",
        "def Dmax(fs):\n",
        "  return 1-toff_min*fs\n",
        "\n",
        "def Vout_max(fs,Vin):\n",
        "  return Dmax(fs)*Vin"
      ],
      "execution_count": 0,
      "outputs": []
    },
    {
      "metadata": {
        "id": "IZU4xzqOZwHA",
        "colab_type": "text"
      },
      "cell_type": "markdown",
      "source": [
        "###Results"
      ]
    },
    {
      "metadata": {
        "id": "yCEPNoqHhSFi",
        "colab_type": "text"
      },
      "cell_type": "markdown",
      "source": [
        ">>>$Dutycycle_{max}=1-Toff_{min}\\cdot Fs$"
      ]
    },
    {
      "metadata": {
        "id": "MRYga4SnauHg",
        "colab_type": "code",
        "colab": {
          "base_uri": "https://localhost:8080/",
          "height": 51
        },
        "cellView": "form",
        "outputId": "52326957-62fc-4093-954d-7b71876676fa"
      },
      "cell_type": "code",
      "source": [
        "#@title\n",
        "print('At fs=%3.1fkHz          Max_Dutycycle = %3.1f%%' % (fs_nom/1000, Dmax(fs_nom)*100))\n",
        "print('At fs=%3.1fkHz, %3.1fVin  Max_Vout      = %3.1fV' % (fs_nom/1000, Vin_min, Vout_max(fs_nom, Vin_min)))"
      ],
      "execution_count": 33,
      "outputs": [
        {
          "output_type": "stream",
          "text": [
            "At fs=750.0kHz          Max_Dutycycle = 83.5%\n",
            "At fs=750.0kHz, 9.0Vin  Max_Vout      = 7.5V\n"
          ],
          "name": "stdout"
        }
      ]
    }
  ]
}